{
 "cells": [
  {
   "cell_type": "markdown",
   "metadata": {},
   "source": [
    "# Answer Coalescence\n",
    "\n",
    "Strider finds and ranks all paths that fulfill the query.  Some of these answers can be very similar.  For instance, two answers may differ only by a gene node, but perhaps those genes are from the same family.  This permits a higher-level, more parsimonious description of an answer set."
   ]
  },
  {
   "cell_type": "code",
   "execution_count": 1,
   "metadata": {},
   "outputs": [],
   "source": [
    "import requests\n",
    "import json\n",
    "\n",
    "class Strider:\n",
    "    def __init__(self):\n",
    "        self.url='http://robokop.renci.org:5781'\n",
    "    def call(self,question):\n",
    "        message = {'message': {'query_graph': question}}\n",
    "        return self.send_message(message)\n",
    "    def send_message(self,message):\n",
    "        response = requests.post(f'{self.url}/query',json=message)\n",
    "        if response.status_code == 200:\n",
    "            pid = response.json()\n",
    "            return pid\n",
    "        else:\n",
    "            print(response.status_code)\n",
    "            return None\n",
    "    def query_result(self,pid):\n",
    "        r = requests.get(f'{self.url}/results',params={'query_id':pid})\n",
    "        print(json.dumps(r.json(),indent=2))\n",
    "    \n",
    "strider = Strider()"
   ]
  },
  {
   "cell_type": "code",
   "execution_count": 7,
   "metadata": {},
   "outputs": [],
   "source": [
    "question = { 'nodes': [{'id':'n0', 'type':'disease', 'curie':'MONDO:0005180'},\n",
    "                      {'id': 'n1', 'type':'chemical_substance'}],\n",
    "             'edges': [ {'id': 'e0', 'source_id': 'n0', 'target_id': 'n1', 'type': 'contributes_to'}]}\n",
    "message = {'message': {'query_graph': question}}"
   ]
  },
  {
   "cell_type": "code",
   "execution_count": 8,
   "metadata": {},
   "outputs": [
    {
     "name": "stdout",
     "output_type": "stream",
     "text": [
      "6896f391-ce0c-4fe7-ad72-04b108ace8d5\n"
     ]
    }
   ],
   "source": [
    "p = strider.send_message(message)\n",
    "print(p)"
   ]
  },
  {
   "cell_type": "code",
   "execution_count": 11,
   "metadata": {},
   "outputs": [
    {
     "name": "stdout",
     "output_type": "stream",
     "text": [
      "{\n",
      "  \"query_graph\": {\n",
      "    \"nodes\": [\n",
      "      {\n",
      "        \"id\": \"n1\",\n",
      "        \"curie\": null,\n",
      "        \"type\": \"chemical_substance\"\n",
      "      },\n",
      "      {\n",
      "        \"id\": \"n0\",\n",
      "        \"curie\": \"MONDO:0005180\",\n",
      "        \"type\": \"disease\"\n",
      "      }\n",
      "    ],\n",
      "    \"edges\": [\n",
      "      {\n",
      "        \"id\": \"e0\",\n",
      "        \"type\": \"contributes_to\",\n",
      "        \"source_id\": \"n0\",\n",
      "        \"target_id\": \"n1\"\n",
      "      }\n",
      "    ]\n",
      "  },\n",
      "  \"knowledge_graph\": null,\n",
      "  \"results\": []\n",
      "}\n"
     ]
    }
   ],
   "source": [
    "strider.query_result(p)"
   ]
  },
  {
   "cell_type": "code",
   "execution_count": 12,
   "metadata": {},
   "outputs": [],
   "source": [
    "question = { 'nodes': [{'id':'n0', 'type':'disease'},\n",
    "                      {'id': 'n1', 'type':'chemical_substance', 'curie': 'CHEBI:6801'}],\n",
    "             'edges': [ {'id': 'e0', 'source_id': 'n1', 'target_id': 'n0', 'type': 'treats'}]}\n",
    "message = {'message': {'query_graph': question}}"
   ]
  },
  {
   "cell_type": "code",
   "execution_count": 13,
   "metadata": {},
   "outputs": [],
   "source": [
    "p = strider.send_message(message)"
   ]
  },
  {
   "cell_type": "code",
   "execution_count": 21,
   "metadata": {},
   "outputs": [
    {
     "name": "stdout",
     "output_type": "stream",
     "text": [
      "{\n",
      "  \"query_graph\": {\n",
      "    \"nodes\": [\n",
      "      {\n",
      "        \"id\": \"n1\",\n",
      "        \"curie\": \"CHEBI:6801\",\n",
      "        \"type\": \"chemical_substance\"\n",
      "      },\n",
      "      {\n",
      "        \"id\": \"n0\",\n",
      "        \"curie\": null,\n",
      "        \"type\": \"disease\"\n",
      "      }\n",
      "    ],\n",
      "    \"edges\": [\n",
      "      {\n",
      "        \"id\": \"e0\",\n",
      "        \"type\": \"treats\",\n",
      "        \"source_id\": \"n1\",\n",
      "        \"target_id\": \"n0\"\n",
      "      }\n",
      "    ]\n",
      "  },\n",
      "  \"knowledge_graph\": null,\n",
      "  \"results\": []\n",
      "}\n"
     ]
    }
   ],
   "source": [
    "strider.query_result(p)"
   ]
  },
  {
   "cell_type": "code",
   "execution_count": null,
   "metadata": {},
   "outputs": [],
   "source": []
  }
 ],
 "metadata": {
  "kernelspec": {
   "display_name": "Python 3",
   "language": "python",
   "name": "python3"
  },
  "language_info": {
   "codemirror_mode": {
    "name": "ipython",
    "version": 3
   },
   "file_extension": ".py",
   "mimetype": "text/x-python",
   "name": "python",
   "nbconvert_exporter": "python",
   "pygments_lexer": "ipython3",
   "version": "3.7.3"
  }
 },
 "nbformat": 4,
 "nbformat_minor": 4
}
