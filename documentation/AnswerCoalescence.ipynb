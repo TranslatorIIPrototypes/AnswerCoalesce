{
 "cells": [
  {
   "cell_type": "markdown",
   "metadata": {},
   "source": [
    "# Answer Coalescence\n",
    "\n",
    "Strider finds and ranks all paths that fulfill the query.  Some of these answers can be very similar.  For instance, two answers may differ only by a gene node, but perhaps those genes are from the same family.  This permits a higher-level, more parsimonious description of an answer set."
   ]
  },
  {
   "cell_type": "code",
   "execution_count": 1,
   "metadata": {},
   "outputs": [],
   "source": [
    "import requests\n",
    "import json\n",
    "from notebook_functions import reasonerGraphToCytoscape, knowledgeGraphToCytoscape\n",
    "from cyjupyter import Cytoscape\n",
    "import time"
   ]
  },
  {
   "cell_type": "code",
   "execution_count": 2,
   "metadata": {},
   "outputs": [],
   "source": [
    "def getlabel(curie):\n",
    "    url = 'https://nodenormalization-sri.renci.org/get_normalized_nodes'\n",
    "    r = requests.get(url,params={'curie':curie}).json()\n",
    "    try:\n",
    "        return r[curie]['id']['label']\n",
    "    except:\n",
    "        return ''\n",
    "\n",
    "class Strider:\n",
    "    def __init__(self):\n",
    "        self.url='http://robokop.renci.org:5781'\n",
    "    def call(self,question):\n",
    "        message = {'message': {'query_graph': question}}\n",
    "        return self.send_message(message)\n",
    "    def send_message(self,message):\n",
    "        response = requests.post(f'{self.url}/query',json=message)\n",
    "        if response.status_code == 200:\n",
    "            pid = response.json()\n",
    "            return pid\n",
    "        else:\n",
    "            print(response.status_code)\n",
    "            return None\n",
    "    def query_result(self,pid):\n",
    "        r = requests.get(f'{self.url}/results',params={'query_id':pid})\n",
    "        return r.json()\n",
    "    \n",
    "strider = Strider()"
   ]
  },
  {
   "cell_type": "code",
   "execution_count": 3,
   "metadata": {},
   "outputs": [],
   "source": [
    "def create_question(relation_type,disease_curie=None,chem_curie=None):\n",
    "    question = { \"nodes\": [{\"id\":\"n0\", \"type\":\"disease\"},\n",
    "                          {\"id\": \"n1\", \"type\":\"chemical_substance\"}],\n",
    "                 \"edges\": [ {\"id\": \"e0\", \"source_id\": \"n1\", \"target_id\": \"n0\", \"type\": relation_type}]}\n",
    "    if disease_curie is not None:\n",
    "        question['nodes'][0]['curie']=disease_curie\n",
    "    if chem_curie is not None:\n",
    "        question['nodes'][1]['curie']=chem_curie\n",
    "    return question"
   ]
  },
  {
   "cell_type": "code",
   "execution_count": 4,
   "metadata": {},
   "outputs": [
    {
     "data": {
      "application/vnd.jupyter.widget-view+json": {
       "model_id": "033e6744b2fc4ea683612d3c0158739f",
       "version_major": 2,
       "version_minor": 0
      },
      "text/plain": [
       "Cytoscape(data={'elements': {'nodes': [{'data': {'id': 'n0', 'label': 'disease\\n[MONDO:0005148]', 'curie': 'MO…"
      ]
     },
     "metadata": {},
     "output_type": "display_data"
    }
   ],
   "source": [
    "disease = \"MONDO:0005148\"   #T2D\n",
    "edgetype=\"treats\"\n",
    "question = create_question(edgetype,disease_curie=disease)\n",
    "message = {\"message\": {\"query_graph\": question}}\n",
    "\n",
    "c=reasonerGraphToCytoscape(question)\n",
    "Cytoscape(data=c, visual_style=c[\"style\"], layout_name='grid', layout={\"name\": \"grid\", \"height\": \"200px\"})"
   ]
  },
  {
   "cell_type": "code",
   "execution_count": 5,
   "metadata": {},
   "outputs": [
    {
     "name": "stdout",
     "output_type": "stream",
     "text": [
      "cffad73d-1147-4930-ac24-2b464f5f5cb5\n"
     ]
    }
   ],
   "source": [
    "p = strider.send_message(message)\n",
    "print(p)"
   ]
  },
  {
   "cell_type": "code",
   "execution_count": 6,
   "metadata": {},
   "outputs": [
    {
     "name": "stdout",
     "output_type": "stream",
     "text": [
      "checking\n",
      "results found\n"
     ]
    }
   ],
   "source": [
    "strider_result=strider.query_result(p)\n",
    "while len(strider_result['results']) == 0:\n",
    "    time.sleep(5)\n",
    "    print('checking')\n",
    "    strider_result = strider.query_result(p)\n",
    "print('results found')"
   ]
  },
  {
   "cell_type": "code",
   "execution_count": 9,
   "metadata": {},
   "outputs": [
    {
     "name": "stdout",
     "output_type": "stream",
     "text": [
      "MONDO:0005148 type 2 diabetes mellitus\n",
      "PUBCHEM:3013166 L 783281\n",
      "CHEBI:4806 (-)-epigallocatechin 3-gallate\n",
      "CHEBI:9434 telmisartan\n",
      "CHEBI:16118 berberine\n",
      "MESH:C074031 [OBSOLETE] exenatide\n",
      "CHEBI:50991 thiazolidenedione\n",
      "PUBCHEM:6442063 Docosahexaenoic Acids\n",
      "DRUGBANK:DB00284 Acarbose\n",
      "PUBCHEM:667431 Gliclazide\n",
      "CHEBI:5441 glyburide\n",
      "CHEMBL.COMPOUND:CHEMBL1201174 SITAGLIPTIN\n",
      "CHEBI:94686 orlistat\n",
      "CHEBI:7986 Pentoxifylline\n",
      "CHEBI:6801 metformin\n",
      "CHEBI:47612 bezafibrate\n",
      "CHEBI:28197 daidzein\n",
      "CHEBI:26513 quinolines\n",
      "CHEBI:4631 diosmin\n",
      "CHEBI:4784 enalapril\n",
      "CHEBI:6682 mangiferin\n",
      "CHEBI:27999 tolbutamide\n",
      "CHEBI:439329 (S)-fenfluramine\n",
      "CHEBI:3650 chlorpropamide\n",
      "CHEBI:28794 coumarin\n",
      "PUBCHEM:23927 Lead\n",
      "CHEBI:135285 vildagliptin\n",
      "CHEBI:3962 curcumin\n",
      "CHEBI:71271 saxagliptin hydrate\n",
      "CHEBI:25681 omega-3 fatty acid\n",
      "CHEBI:77148 ginsenoside Re\n",
      "CHEMBL.COMPOUND:CHEMBL1829174 FASIGLIFAM\n",
      "CHEBI:63631 topiramate\n",
      "CHEBI:5384 glipizide\n",
      "CHEBI:16731 (E)-cinnamaldehyde\n",
      "CHEBI:16325 lithocholic acid\n",
      "CHEBI:28088 genistein\n",
      "CHEBI:40968 astaxanthin\n",
      "CHEBI:35457 EC 3.4.15.1 (peptidyl-dipeptidase A) inhibitor\n",
      "CHEBI:45713 trans-resveratrol\n",
      "PUBCHEM:9947731 2-methyl-c-5-(4-(5-methyl-2-(4-methylphenyl)-4-oxazolyl)butyl)-1,3-dioxane-r-2-carboxylic acid\n",
      "CHEMBL.COMPOUND:CHEMBL2146125 MAGNESIUM\n",
      "CHEBI:5959 irbesartan\n",
      "PUBCHEM:9929731 2,2-dichloro-12-(p-chlorophenyl)-dodecanoic acid\n",
      "CHEBI:73272 canagliflozin hydrate\n",
      "CHEMBL.COMPOUND:CHEMBL2337806 CHEMBL2337806\n",
      "CHEMBL.COMPOUND:CHEMBL259771 CHEMBL259771\n",
      "CHEBI:30429 indigane\n",
      "MESH:C439759 \n",
      "CHEBI:50385 hemin\n",
      "MESH:C023599 stannous chloride\n",
      "CHEBI:61016 angiotensin receptor antagonist\n",
      "MESH:C468270 Kangen-karyu\n",
      "MESH:C000594859 nymphayol\n",
      "MESH:C519374 Panax notoginseng extract\n",
      "MESH:C581182 2-dodecyl-6-methoxycyclohexa-2,5-diene-1,4-dione\n",
      "MESH:C000599091 fumosorinone\n",
      "MESH:D004365 Drugs, Chinese Herbal\n",
      "PUBCHEM:6918448 neomangiferin\n",
      "MESH:D000069450 Liraglutide\n",
      "MESH:D000069472 Colesevelam Hydrochloride\n",
      "CHEBI:29224 dibromine\n",
      "MESH:D000077270 \n",
      "CHEBI:53488 (7Z,10Z,13Z,16Z,19Z)-docosapentaenoic acid\n",
      "MESH:C061004 benidipine\n",
      "MESH:D061267 Insulin Aspart\n",
      "MESH:C542815 BLX 1002\n",
      "CHEMBL.COMPOUND:CHEMBL1770248 ERTUGLIFLOZIN\n",
      "MESH:C000590645 2,4-dinitrophenol methyl ether\n",
      "CHEMBL.COMPOUND:CHEMBL1829173 CHEMBL1829173\n",
      "MESH:C403535 triaquaoxohexakis(propionato)trichromium(III)\n",
      "MESH:D058607 Fibric Acids\n",
      "MESH:D000077154 Rosiglitazone\n",
      "MESH:D009568 Nitrendipine\n",
      "MESH:D000077288 Troglitazone\n",
      "MESH:D013453 Sulfonylurea Compounds\n",
      "MESH:D000077205 Pioglitazone\n",
      "MESH:C576414 platyconic acid\n",
      "MESH:D010936 Plant Extracts\n"
     ]
    }
   ],
   "source": [
    "time.sleep(5)\n",
    "strider_result = strider.query_result(p)\n",
    "for node in strider_result['knowledge_graph']['nodes']:\n",
    "    print(node['id'], node['name'])"
   ]
  },
  {
   "cell_type": "markdown",
   "metadata": {},
   "source": [
    "## Coalesce Answers by Property"
   ]
  },
  {
   "cell_type": "code",
   "execution_count": 11,
   "metadata": {},
   "outputs": [
    {
     "name": "stdout",
     "output_type": "stream",
     "text": [
      "200\n"
     ]
    }
   ],
   "source": [
    "url = 'https://answercoalesce.renci.org/coalesce'\n",
    "params = {'method':'property'}\n",
    "property_result = requests.post(url,json=strider_result,params=params)\n",
    "print(property_result.status_code)"
   ]
  },
  {
   "cell_type": "code",
   "execution_count": 12,
   "metadata": {},
   "outputs": [
    {
     "name": "stdout",
     "output_type": "stream",
     "text": [
      "23 [1.4507062494232832e-32] ['drugbank.investigational']\n",
      "22 [2.9927753494707155e-30] ['drugbank.approved']\n",
      "20 [1.2767864105470421e-24] ['therapeutic_flag']\n",
      "10 [4.823367861758246e-24] ['hypoglycemic_agent']\n",
      "8 [3.3494981019524477e-22, 8.916362091726007e-21] ['Drugs Used in Diabetes', 'Blood Glucose Lowering Agents']\n",
      "22 [4.830130548044178e-22, 6.478713505765552e-22] ['drug', 'pharmaceutical']\n",
      "24 [6.205859186704515e-21] ['application']\n",
      "7 [8.254275649747387e-20] ['Oral Hypoglycemics']\n",
      "14 [1.0939886086070841e-19] ['oral']\n",
      "10 [1.3742711531874345e-19] ['Alimentary Tract and Metabolism']\n",
      "14 [3.4597402886307423e-16] ['inhibitor']\n",
      "9 [5.4258882586528116e-15] ['Enzyme Inhibitors']\n",
      "9 [6.668684135065894e-15] ['Cytochrome P-450 Enzyme Inhibitors']\n",
      "4 [5.936897949610144e-14, 5.594130321207606e-13, 2.7511305706926877e-10, 2.6960183242478735e-08] ['Sulfonylurea Compounds', 'Sulfonylureas', 'Urea', 'Sulfones']\n",
      "12 [1.0815168960134938e-13] ['enzyme_inhibitor']\n",
      "29 [1.3741445773945114e-13] ['biological_role']\n",
      "9 [1.8790144927890065e-13] ['EC_3.*_(hydrolase)_inhibitor']\n",
      "8 [2.0250349470712465e-13] ['antioxidant']\n",
      "8 [2.191538672509964e-13] ['Drugs that are Mainly Renally Excreted']\n",
      "5 [1.1498976023270184e-12] ['Hypoglycemia-Associated Agents']\n",
      "13 [1.4340193597140014e-12] ['plant_metabolite']\n",
      "5 [3.1861392233926002e-12, 9.553986227261985e-12] ['Benzopyrans', 'Pyrans']\n",
      "6 [1.0492334889833455e-11] ['Cytochrome P-450 CYP2C9 Substrates']\n",
      "24 [3.369063100193561e-11] ['biochemical_role']\n",
      "3 [3.410510433264202e-11] ['Antimutagenic Agents']\n",
      "4 [5.3171871536430036e-11, 1.1150256281246041e-10] ['Flavonoids', 'Chromones']\n",
      "7 [6.137129703743178e-11] ['EC_2.*_(transferase)_inhibitor']\n",
      "3 [2.982860617191482e-10, 2.982860617191482e-10] ['insulin_secretagogue', 'secretagogue']\n",
      "5 [3.5121041780188356e-10] ['Protective Agents']\n",
      "6 [3.7314664694459387e-10] ['EC_2.7.*_(P_containing_group_transferase)_inhibitor']\n",
      "6 [4.012901111662851e-10] ['Compounds used in a research, industrial, or household setting']\n",
      "5 [5.164608122946698e-09] ['P-glycoprotein/ABCB1 Inhibitors']\n",
      "4 [9.635657413788167e-09] ['OAT1/SLC22A6 inhibitors']\n",
      "3 [1.3095235980146587e-08] ['Anticarcinogenic Agents']\n",
      "5 [1.790711475754648e-08] ['Antineoplastic Agents']\n",
      "5 [2.506456074287719e-08] ['Benzene Derivatives']\n",
      "15 [2.5608187610497832e-08] ['eukaryotic_metabolite']\n",
      "5 [3.313954609367836e-08] ['cardiovascular_drug']\n",
      "17 [5.970694462493472e-08] ['chemical_role']\n",
      "4 [7.962074927549363e-08] ['Cytochrome P-450 CYP1A2 Substrates']\n",
      "3 [1.2862012412872685e-07, 5.476714610631813e-06, 7.297326248002947e-06, 1.1203662775848124e-05, 2.6584796738220363e-05] ['Agents Acting on the Renin-Angiotensin System', 'Antihypertensive Agents', 'Hypotensive Agents', 'antihypertensive_agent', 'Agents causing hyperkalemia']\n",
      "5 [1.6888918254149662e-07] ['Sulfur Compounds']\n",
      "3 [1.9828126118987275e-07] ['Agents causing angioedema']\n",
      "5 [2.1783097149332593e-07] ['Central Nervous System Agents']\n",
      "2 [2.5365037548382954e-07, 1.5208795579046187e-06, 5.7393693659323954e-06, 9.831477054923257e-05] ['Phytoestrogens', 'Estrogens, Non-Steroidal', 'phytoestrogen', 'estrogen']\n",
      "4 [2.7635425107538696e-07] ['EC_3.4.*_(hydrolases_acting_on_peptide_bond)_inhibitor']\n",
      "3 [3.196847135348712e-07] ['Antioxidants']\n",
      "2 [4.2269379263234517e-07, 1.183065362593013e-06, 1.5208795579046187e-06, 1.5208795579046187e-06, 1.9008438886715593e-06, 3.2934675633503126e-06, 3.841862333354925e-06, 2.2234391406500443e-05] ['Angiotensin II Type 2 Receptor Blockers', 'Angiotensin II receptor blockers (ARBs) and calcium channel blockers', 'Angiotensin 2 Receptor Blocker', 'Angiotensin II receptor blockers (ARBs) and diuretics', 'Angiotensin II receptor blockers (ARBs), plain', 'angiotensin_receptor_antagonist', 'Angiotensin Receptor Antagonists', 'UGT1A3 substrates']\n",
      "4 [4.493657101605355e-07, 5.358807245922581e-07] ['Cytochrome P-450 CYP3A4 Inhibitors', 'Cytochrome P-450 CYP3A Inhibitors']\n",
      "5 [5.188535928590663e-07, 5.293174290912551e-07, 5.507451668483277e-07] ['Cytochrome P-450 CYP3A4 Substrates (strength unknown)', 'Cytochrome P-450 CYP3A4 Substrates', 'Cytochrome P-450 CYP3A Substrates']\n",
      "3 [8.027770147671049e-07] ['BSEP/ABCB11 Substrates']\n",
      "6 [1.1438227197947127e-06] ['antineoplastic_agent']\n",
      "2 [1.183065362593013e-06, 1.5208795579046187e-06] ['EC_3.4.14.5_(dipeptidyl_peptidase_IV)_inhibitor', 'EC_3.4.14.*_(dipeptidyl__and_tripeptidyl_peptidases)_inhibitor']\n",
      "4 [1.19200973965299e-06] ['Cardiovascular Agents']\n",
      "17 [1.3844175664878948e-06] ['metabolite']\n",
      "2 [1.5208795579046187e-06, 4.543599040456524e-05] ['EC_2.7.1.33_(pantothenate_kinase)_inhibitor', 'EC_2.7.1.*_(phosphotransferases_with_an_alcohol_group_as_acceptor)_inhibitor']\n",
      "3 [2.1252572911993043e-06] ['Cytochrome P-450 CYP1A2 Inhibitors']\n",
      "3 [2.1808598480959512e-06] ['Phenols']\n",
      "4 [3.1135916709333128e-06, 1.1031497323120336e-05] ['environmental_contaminant', 'xenobiotic']\n",
      "3 [3.2788039454566385e-06, 5.2656355174384375e-05] ['neuroprotective_agent', 'protective_agent']\n",
      "2 [3.2934675633503126e-06] ['Anti-Obesity Agents']\n",
      "2 [3.841862333354925e-06] ['Antiobesity Preparations, Excl. Diet Products']\n",
      "3 [4.06934378231862e-06] ['Cytochrome P-450 CYP2C8 Inhibitors']\n",
      "5 [4.140372925849667e-06] ['natural_product']\n",
      "3 [4.785543648181588e-06] ['Cytochrome P-450 CYP2C9 Inhibitors']\n",
      "2 [6.455922677538648e-06] ['Radiation-Protective Agents']\n",
      "4 [6.9936978748367645e-06] ['biophysical_role']\n",
      "2 [7.214473167516973e-06, 1.2646767163705568e-05] ['potassium_channel_blocker', 'potassium_channel_modulator']\n",
      "3 [7.297326248002947e-06, 8.205398405033917e-06, 1.4064265407346184e-05] ['Cytochrome P-450 CYP3A4 Inducers', 'Cytochrome P-450 CYP3A Inducers', 'Cytochrome P-450 Enzyme Inducers']\n",
      "2 [8.015003878985998e-06] ['Antineoplastic Agents, Phytogenic']\n",
      "2 [8.015003878985998e-06] ['Cytochrome P-450 CYP3A4 Inducers (weak)']\n",
      "4 [9.453850166698684e-06] ['anti_inflammatory_agent']\n",
      "2 [9.741938103991403e-06] ['EC_1.1.1.21_(aldehyde_reductase)_inhibitor']\n",
      "6 [1.1349133860874273e-05] ['pharmacological_role']\n",
      "3 [1.7814678190981268e-05] ['food_additive']\n",
      "6 [1.8683651342975853e-05] ['drugbank.experimental']\n",
      "2 [2.088965972079176e-05] ['Neuroprotective Agents']\n",
      "2 [2.2234391406500443e-05, 5.5696265729043224e-05] ['food_colouring', 'Hydrocarbons, Acyclic']\n",
      "2 [2.958385989046653e-05, 2.958385989046653e-05] ['EC_3.4.15.*_(peptidyl_dipeptidase)_inhibitor', 'EC_3.4.15.1_(peptidyl_dipeptidase_A)_inhibitor']\n",
      "2 [3.1178797416261676e-05] ['Antiplatelet agents']\n",
      "3 [3.4231655294312165e-05] ['P-glycoprotein/ABCB1 Substrates']\n",
      "3 [3.780127979884575e-05] ['protein_kinase_inhibitor']\n",
      "2 [3.797479800544076e-05] ['Cytochrome P-450 CYP2C8 Inhibitors (moderate)']\n",
      "2 [5.5696265729043224e-05] ['Anticoagulants']\n",
      "2 [6.009045515074521e-05] ['Diuretics']\n",
      "2 [8.721424733484389e-05] ['Protease Inhibitors']\n",
      "2 [8.9927612322372e-05] ['antilipemic_drug']\n",
      "2 [9.268216565831059e-05] ['Metals']\n"
     ]
    }
   ],
   "source": [
    "results = property_result.json()['results']\n",
    "for result in results:\n",
    "    chemnode = result['node_bindings'][1]\n",
    "    print(len(chemnode['kg_id']), chemnode['p_values'], chemnode['properties'])"
   ]
  },
  {
   "cell_type": "code",
   "execution_count": null,
   "metadata": {},
   "outputs": [],
   "source": [
    "#modify notebook functions to show an answer.  Show something reasonably sized, like the first answer with 5 compounds."
   ]
  },
  {
   "cell_type": "markdown",
   "metadata": {},
   "source": [
    "## Coalesce Answers by Ontology"
   ]
  },
  {
   "cell_type": "code",
   "execution_count": 23,
   "metadata": {},
   "outputs": [
    {
     "name": "stdout",
     "output_type": "stream",
     "text": [
      "200\n",
      "1\n"
     ]
    }
   ],
   "source": [
    "url = 'https://answercoalesce.renci.org/coalesce'\n",
    "params = {'method':'ontology'}\n",
    "o_r = requests.post(url,json=strider_result,params=params)\n",
    "print(o_r.status_code)\n",
    "ontology_result = o_r.json()\n",
    "print( len(ontology_result['results']))"
   ]
  },
  {
   "cell_type": "code",
   "execution_count": 25,
   "metadata": {},
   "outputs": [
    {
     "name": "stdout",
     "output_type": "stream",
     "text": [
      "================\n",
      "chlorpropamide (CHEBI:3650)\n",
      "tolbutamide (CHEBI:27999)\n",
      "glipizide (CHEBI:5384)\n",
      "glyburide (CHEBI:5441)\n",
      "----have superclass----\n",
      "N-sulfonylurea (CHEBI:76983)\n"
     ]
    }
   ],
   "source": [
    "results = ontology_result['results']\n",
    "for result in results:\n",
    "    print('================')\n",
    "    chemnode = result['node_bindings'][1]\n",
    "    sclass = chemnode['superclass']\n",
    "    label = getlabel(sclass)\n",
    "    nodes = chemnode['kg_id']\n",
    "    labels = {x: f'{getlabel(x)}' for x in nodes }\n",
    "    for x in nodes:\n",
    "        print(f'{labels[x]} ({x})')\n",
    "    print('----have superclass----')\n",
    "    print(f'{label} ({sclass})')"
   ]
  },
  {
   "cell_type": "code",
   "execution_count": 16,
   "metadata": {},
   "outputs": [
    {
     "ename": "KeyError",
     "evalue": "'name'",
     "output_type": "error",
     "traceback": [
      "\u001b[0;31m---------------------------------------------------------------------------\u001b[0m",
      "\u001b[0;31mKeyError\u001b[0m                                  Traceback (most recent call last)",
      "\u001b[0;32m<ipython-input-16-fd61e92b33e7>\u001b[0m in \u001b[0;36m<module>\u001b[0;34m\u001b[0m\n\u001b[0;32m----> 1\u001b[0;31m \u001b[0mc\u001b[0m\u001b[0;34m=\u001b[0m\u001b[0mknowledgeGraphToCytoscape\u001b[0m\u001b[0;34m(\u001b[0m\u001b[0montology_result\u001b[0m\u001b[0;34m.\u001b[0m\u001b[0mjson\u001b[0m\u001b[0;34m(\u001b[0m\u001b[0;34m)\u001b[0m\u001b[0;34m[\u001b[0m\u001b[0;34m'knowledge_graph'\u001b[0m\u001b[0;34m]\u001b[0m\u001b[0;34m)\u001b[0m\u001b[0;34m\u001b[0m\u001b[0;34m\u001b[0m\u001b[0m\n\u001b[0m\u001b[1;32m      2\u001b[0m \u001b[0mCytoscape\u001b[0m\u001b[0;34m(\u001b[0m\u001b[0mdata\u001b[0m\u001b[0;34m=\u001b[0m\u001b[0mc\u001b[0m\u001b[0;34m,\u001b[0m \u001b[0mvisual_style\u001b[0m\u001b[0;34m=\u001b[0m\u001b[0mc\u001b[0m\u001b[0;34m[\u001b[0m\u001b[0;34m\"style\"\u001b[0m\u001b[0;34m]\u001b[0m\u001b[0;34m,\u001b[0m \u001b[0mlayout_name\u001b[0m\u001b[0;34m=\u001b[0m\u001b[0;34m'cose'\u001b[0m\u001b[0;34m,\u001b[0m \u001b[0mlayout\u001b[0m\u001b[0;34m=\u001b[0m\u001b[0;34m{\u001b[0m \u001b[0;34m\"height\"\u001b[0m\u001b[0;34m:\u001b[0m \u001b[0;34m\"200px\"\u001b[0m\u001b[0;34m}\u001b[0m\u001b[0;34m)\u001b[0m\u001b[0;34m\u001b[0m\u001b[0;34m\u001b[0m\u001b[0m\n",
      "\u001b[0;32m~/Projects/Prototypes/AnswerCoalesce/documentation/notebook_functions.py\u001b[0m in \u001b[0;36mknowledgeGraphToCytoscape\u001b[0;34m(graph)\u001b[0m\n\u001b[1;32m     65\u001b[0m         \u001b[0;32melse\u001b[0m\u001b[0;34m:\u001b[0m\u001b[0;34m\u001b[0m\u001b[0;34m\u001b[0m\u001b[0m\n\u001b[1;32m     66\u001b[0m             \u001b[0mnode_types\u001b[0m \u001b[0;34m=\u001b[0m \u001b[0;34m\"\\n\"\u001b[0m\u001b[0;34m.\u001b[0m\u001b[0mjoin\u001b[0m\u001b[0;34m(\u001b[0m\u001b[0mnode\u001b[0m\u001b[0;34m[\u001b[0m\u001b[0;34m\"type\"\u001b[0m\u001b[0;34m]\u001b[0m\u001b[0;34m)\u001b[0m\u001b[0;34m\u001b[0m\u001b[0;34m\u001b[0m\u001b[0m\n\u001b[0;32m---> 67\u001b[0;31m         \u001b[0mcsNode\u001b[0m\u001b[0;34m[\u001b[0m\u001b[0;34m\"data\"\u001b[0m\u001b[0;34m]\u001b[0m \u001b[0;34m=\u001b[0m \u001b[0;34m{\u001b[0m\u001b[0;34m\"id\"\u001b[0m\u001b[0;34m:\u001b[0m \u001b[0mnode\u001b[0m\u001b[0;34m[\u001b[0m\u001b[0;34m\"id\"\u001b[0m\u001b[0;34m]\u001b[0m\u001b[0;34m,\u001b[0m \u001b[0;34m\"label\"\u001b[0m\u001b[0;34m:\u001b[0m \u001b[0;34m(\u001b[0m\u001b[0mnode\u001b[0m\u001b[0;34m[\u001b[0m\u001b[0;34m\"name\"\u001b[0m\u001b[0;34m]\u001b[0m \u001b[0;32mor\u001b[0m \u001b[0;34m\" \"\u001b[0m\u001b[0;34m)\u001b[0m \u001b[0;34m+\u001b[0m \u001b[0;34m\"\\n[\"\u001b[0m \u001b[0;34m+\u001b[0m \u001b[0mnode\u001b[0m\u001b[0;34m[\u001b[0m\u001b[0;34m\"id\"\u001b[0m\u001b[0;34m]\u001b[0m \u001b[0;34m+\u001b[0m \u001b[0;34m\"]\"\u001b[0m\u001b[0;34m,\u001b[0m \u001b[0;34m\"curie\"\u001b[0m\u001b[0;34m:\u001b[0m \u001b[0mnode\u001b[0m\u001b[0;34m[\u001b[0m\u001b[0;34m\"id\"\u001b[0m\u001b[0;34m]\u001b[0m\u001b[0;34m,\u001b[0m \u001b[0;34m\"type\"\u001b[0m\u001b[0;34m:\u001b[0m \u001b[0mnode_types\u001b[0m\u001b[0;34m}\u001b[0m\u001b[0;34m\u001b[0m\u001b[0;34m\u001b[0m\u001b[0m\n\u001b[0m\u001b[1;32m     68\u001b[0m         \u001b[0mnodes\u001b[0m\u001b[0;34m.\u001b[0m\u001b[0mappend\u001b[0m\u001b[0;34m(\u001b[0m\u001b[0mcsNode\u001b[0m\u001b[0;34m)\u001b[0m\u001b[0;34m\u001b[0m\u001b[0;34m\u001b[0m\u001b[0m\n\u001b[1;32m     69\u001b[0m     \u001b[0;32mfor\u001b[0m \u001b[0medge\u001b[0m \u001b[0;32min\u001b[0m \u001b[0mgraph\u001b[0m\u001b[0;34m[\u001b[0m\u001b[0;34m\"edges\"\u001b[0m\u001b[0;34m]\u001b[0m\u001b[0;34m:\u001b[0m\u001b[0;34m\u001b[0m\u001b[0;34m\u001b[0m\u001b[0m\n",
      "\u001b[0;31mKeyError\u001b[0m: 'name'"
     ]
    }
   ],
   "source": [
    "#This is where it would be good to show an answer.  The KG coming back includes all the stuff that went in of course.\n",
    "#c=knowledgeGraphToCytoscape(ontology_result.json()['knowledge_graph'])\n",
    "#Cytoscape(data=c, visual_style=c[\"style\"], layout_name='cose', layout={ \"height\": \"200px\"})"
   ]
  },
  {
   "cell_type": "code",
   "execution_count": 33,
   "metadata": {},
   "outputs": [],
   "source": [
    "def create_pd_question(p_curie):\n",
    "    question = { \"nodes\": [{\"id\":\"n0\", \"type\":\"disease\"},\n",
    "                          {\"id\": \"n1\", \"type\":\"phenotypic_feature\",\"curie\":p_curie}],\n",
    "                 \"edges\": [ {\"id\": \"e0\", \"source_id\": \"n0\", \"target_id\": \"n1\", \"type\": \"has_phenotype\"}]}\n",
    "    return question"
   ]
  },
  {
   "cell_type": "code",
   "execution_count": 35,
   "metadata": {},
   "outputs": [
    {
     "name": "stdout",
     "output_type": "stream",
     "text": [
      "{\n",
      "    \"nodes\": [\n",
      "        {\n",
      "            \"id\": \"n0\",\n",
      "            \"type\": \"disease\"\n",
      "        },\n",
      "        {\n",
      "            \"id\": \"n1\",\n",
      "            \"type\": \"phenotypic_feature\",\n",
      "            \"curie\": \"HP:0012649\"\n",
      "        }\n",
      "    ],\n",
      "    \"edges\": [\n",
      "        {\n",
      "            \"id\": \"e0\",\n",
      "            \"source_id\": \"n0\",\n",
      "            \"target_id\": \"n1\",\n",
      "            \"type\": \"has_phenotype\"\n",
      "        }\n",
      "    ]\n",
      "}\n"
     ]
    },
    {
     "ename": "KeyboardInterrupt",
     "evalue": "",
     "output_type": "error",
     "traceback": [
      "\u001b[0;31m---------------------------------------------------------------------------\u001b[0m",
      "\u001b[0;31mKeyboardInterrupt\u001b[0m                         Traceback (most recent call last)",
      "\u001b[0;32m<ipython-input-35-9a0eddc42f48>\u001b[0m in \u001b[0;36m<module>\u001b[0;34m\u001b[0m\n\u001b[1;32m      6\u001b[0m \u001b[0mstrider_result\u001b[0m\u001b[0;34m=\u001b[0m\u001b[0mstrider\u001b[0m\u001b[0;34m.\u001b[0m\u001b[0mquery_result\u001b[0m\u001b[0;34m(\u001b[0m\u001b[0mmetformin_p\u001b[0m\u001b[0;34m)\u001b[0m\u001b[0;34m\u001b[0m\u001b[0;34m\u001b[0m\u001b[0m\n\u001b[1;32m      7\u001b[0m \u001b[0;32mwhile\u001b[0m \u001b[0mlen\u001b[0m\u001b[0;34m(\u001b[0m\u001b[0mstrider_result\u001b[0m\u001b[0;34m[\u001b[0m\u001b[0;34m'results'\u001b[0m\u001b[0;34m]\u001b[0m\u001b[0;34m)\u001b[0m \u001b[0;34m==\u001b[0m \u001b[0;36m0\u001b[0m\u001b[0;34m:\u001b[0m\u001b[0;34m\u001b[0m\u001b[0;34m\u001b[0m\u001b[0m\n\u001b[0;32m----> 8\u001b[0;31m     \u001b[0mtime\u001b[0m\u001b[0;34m.\u001b[0m\u001b[0msleep\u001b[0m\u001b[0;34m(\u001b[0m\u001b[0;36m5\u001b[0m\u001b[0;34m)\u001b[0m\u001b[0;34m\u001b[0m\u001b[0;34m\u001b[0m\u001b[0m\n\u001b[0m\u001b[1;32m      9\u001b[0m     \u001b[0mstrider_result\u001b[0m \u001b[0;34m=\u001b[0m \u001b[0mstrider\u001b[0m\u001b[0;34m.\u001b[0m\u001b[0mquery_result\u001b[0m\u001b[0;34m(\u001b[0m\u001b[0mmetformin_p\u001b[0m\u001b[0;34m)\u001b[0m\u001b[0;34m\u001b[0m\u001b[0;34m\u001b[0m\u001b[0m\n\u001b[1;32m     10\u001b[0m \u001b[0mprint\u001b[0m\u001b[0;34m(\u001b[0m\u001b[0mlen\u001b[0m\u001b[0;34m(\u001b[0m\u001b[0mstrider_result\u001b[0m\u001b[0;34m[\u001b[0m\u001b[0;34m'results'\u001b[0m\u001b[0;34m]\u001b[0m\u001b[0;34m)\u001b[0m\u001b[0;34m)\u001b[0m\u001b[0;34m\u001b[0m\u001b[0;34m\u001b[0m\u001b[0m\n",
      "\u001b[0;31mKeyboardInterrupt\u001b[0m: "
     ]
    }
   ],
   "source": [
    "p_curie = \"HP:0012649\"\n",
    "question = create_pd_question(p_curie)\n",
    "print(json.dumps(question,indent=4))\n",
    "message = {\"message\": {\"query_graph\": question}}\n",
    "metformin_p = strider.send_message(message)\n",
    "strider_result=strider.query_result(metformin_p)\n",
    "while len(strider_result['results']) == 0:\n",
    "    time.sleep(5)\n",
    "    strider_result = strider.query_result(metformin_p)\n",
    "print(len(strider_result['results']))"
   ]
  },
  {
   "cell_type": "code",
   "execution_count": null,
   "metadata": {},
   "outputs": [],
   "source": [
    "chem='CHEBI:28088'   #prednisone\n",
    "edgetype=\"treats\"\n",
    "question = create_question(edgetype,chem_curie=chem)\n",
    "message = {\"message\": {\"query_graph\": question}}\n",
    "\n",
    "c=reasonerGraphToCytoscape(question)\n",
    "Cytoscape(data=c, visual_style=c[\"style\"], layout_name='grid', layout={\"name\": \"grid\", \"height\": \"200px\"})"
   ]
  },
  {
   "cell_type": "code",
   "execution_count": null,
   "metadata": {},
   "outputs": [],
   "source": [
    "metformin_p = strider.send_message(message)\n",
    "strider_result=strider.query_result(metformin_p)\n",
    "while len(strider_result['results']) == 0:\n",
    "    time.sleep(5)\n",
    "    print('checking')\n",
    "    strider_result = strider.query_result(metformin_p)\n",
    "print('results found')"
   ]
  },
  {
   "cell_type": "code",
   "execution_count": null,
   "metadata": {},
   "outputs": [],
   "source": [
    "strider_result = strider.query_result(metformin_p)\n",
    "for n in strider_result['knowledge_graph']['nodes']:\n",
    "    print(n['id'], n['name'])"
   ]
  },
  {
   "cell_type": "code",
   "execution_count": null,
   "metadata": {},
   "outputs": [],
   "source": [
    "url = 'https://answercoalesce.renci.org/coalesce'\n",
    "params = {'method':'ontology'}\n",
    "ontology_result = requests.post(url,json=strider_result,params=params)\n",
    "print(r.status_code)"
   ]
  },
  {
   "cell_type": "code",
   "execution_count": null,
   "metadata": {},
   "outputs": [],
   "source": [
    "results = ontology_result.json()['results']\n",
    "print(len(results))"
   ]
  },
  {
   "cell_type": "code",
   "execution_count": null,
   "metadata": {},
   "outputs": [],
   "source": [
    "print(results)"
   ]
  },
  {
   "cell_type": "code",
   "execution_count": null,
   "metadata": {},
   "outputs": [],
   "source": []
  }
 ],
 "metadata": {
  "kernelspec": {
   "display_name": "Python 3",
   "language": "python",
   "name": "python3"
  },
  "language_info": {
   "codemirror_mode": {
    "name": "ipython",
    "version": 3
   },
   "file_extension": ".py",
   "mimetype": "text/x-python",
   "name": "python",
   "nbconvert_exporter": "python",
   "pygments_lexer": "ipython3",
   "version": "3.7.3"
  }
 },
 "nbformat": 4,
 "nbformat_minor": 4
}
