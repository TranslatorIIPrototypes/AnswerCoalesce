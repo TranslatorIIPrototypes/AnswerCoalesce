{
 "cells": [
  {
   "cell_type": "markdown",
   "metadata": {},
   "source": [
    "# Answer Coalescence\n",
    "\n",
    "Strider finds and ranks all paths that fulfill the query.  Some of these answers can be very similar.  For instance, two answers may differ only by a gene node, but perhaps those genes are from the same family.  This permits a higher-level, more parsimonious description of an answer set."
   ]
  },
  {
   "cell_type": "code",
   "execution_count": 1,
   "metadata": {},
   "outputs": [],
   "source": [
    "import requests\n",
    "import json\n",
    "from notebook_functions import reasonerGraphToCytoscape, knowledgeGraphToCytoscape\n",
    "from cyjupyter import Cytoscape\n",
    "import time"
   ]
  },
  {
   "cell_type": "code",
   "execution_count": 2,
   "metadata": {},
   "outputs": [],
   "source": [
    "\n",
    "class Strider:\n",
    "    def __init__(self):\n",
    "        self.url='http://robokop.renci.org:5781'\n",
    "    def call(self,question):\n",
    "        message = {'message': {'query_graph': question}}\n",
    "        return self.send_message(message)\n",
    "    def send_message(self,message):\n",
    "        response = requests.post(f'{self.url}/query',json=message)\n",
    "        if response.status_code == 200:\n",
    "            pid = response.json()\n",
    "            return pid\n",
    "        else:\n",
    "            print(response.status_code)\n",
    "            return None\n",
    "    def query_result(self,pid):\n",
    "        r = requests.get(f'{self.url}/results',params={'query_id':pid})\n",
    "        return r.json()\n",
    "    \n",
    "strider = Strider()"
   ]
  },
  {
   "cell_type": "code",
   "execution_count": 30,
   "metadata": {},
   "outputs": [],
   "source": [
    "def create_question(relation_type,disease_curie=None,chem_curie=None):\n",
    "    question = { \"nodes\": [{\"id\":\"n0\", \"type\":\"disease\"},\n",
    "                          {\"id\": \"n1\", \"type\":\"chemical_substance\"}],\n",
    "                 \"edges\": [ {\"id\": \"e0\", \"source_id\": \"n1\", \"target_id\": \"n0\", \"type\": relation_type}]}\n",
    "    if disease_curie is not None:\n",
    "        question['nodes'][0]['curie']=disease_curie\n",
    "    if chem_curie is not None:\n",
    "        question['nodes'][1]['curie']=chem_curie\n",
    "    return question"
   ]
  },
  {
   "cell_type": "code",
   "execution_count": 93,
   "metadata": {},
   "outputs": [
    {
     "data": {
      "application/vnd.jupyter.widget-view+json": {
       "model_id": "93f3c1cc4ad140c1aaf90fb966b56f75",
       "version_major": 2,
       "version_minor": 0
      },
      "text/plain": [
       "Cytoscape(data={'elements': {'nodes': [{'data': {'id': 'n0', 'label': 'disease\\n[MONDO:0005148]', 'curie': 'MO…"
      ]
     },
     "metadata": {},
     "output_type": "display_data"
    }
   ],
   "source": [
    "disease = \"MONDO:0005148\"   #T2D\n",
    "edgetype=\"treats\"\n",
    "question = create_question(edgetype,disease_curie=disease)\n",
    "message = {\"message\": {\"query_graph\": question}}\n",
    "\n",
    "c=reasonerGraphToCytoscape(question)\n",
    "Cytoscape(data=c, visual_style=c[\"style\"], layout_name='grid', layout={\"name\": \"grid\", \"height\": \"200px\"})"
   ]
  },
  {
   "cell_type": "code",
   "execution_count": 94,
   "metadata": {},
   "outputs": [
    {
     "name": "stdout",
     "output_type": "stream",
     "text": [
      "8bb416cd-9dfc-4e6f-adf8-b7677f6c821e\n"
     ]
    }
   ],
   "source": [
    "p = strider.send_message(message)\n",
    "print(p)"
   ]
  },
  {
   "cell_type": "code",
   "execution_count": 96,
   "metadata": {},
   "outputs": [
    {
     "name": "stdout",
     "output_type": "stream",
     "text": [
      "results found\n"
     ]
    }
   ],
   "source": [
    "strider_result=strider.query_result(p)\n",
    "while len(strider_result['results']) == 0:\n",
    "    time.sleep(1)\n",
    "    print('checking')\n",
    "    strider_result = strider.query_result(p)\n",
    "print('results found')"
   ]
  },
  {
   "cell_type": "code",
   "execution_count": 99,
   "metadata": {},
   "outputs": [
    {
     "name": "stdout",
     "output_type": "stream",
     "text": [
      "MONDO:0005148 type 2 diabetes mellitus\n",
      "CHEBI:7986 Pentoxifylline\n",
      "MESH:D000069450 Liraglutide\n",
      "CHEBI:16325 lithocholic acid\n",
      "CHEMBL.COMPOUND:CHEMBL1829174 FASIGLIFAM\n",
      "PUBCHEM:3013166 L 783281\n",
      "CHEBI:63631 topiramate\n",
      "CHEBI:27999 tolbutamide\n",
      "CHEMBL.COMPOUND:CHEMBL2146125 MAGNESIUM\n",
      "CHEMBL.COMPOUND:CHEMBL259771 CHEMBL259771\n",
      "CHEBI:50385 hemin\n",
      "CHEBI:16731 (E)-cinnamaldehyde\n",
      "CHEBI:4784 enalapril\n",
      "CHEBI:6801 metformin\n",
      "CHEBI:26513 quinolines\n",
      "CHEBI:6682 mangiferin\n",
      "PUBCHEM:23927 Lead\n",
      "CHEBI:35457 EC 3.4.15.1 (peptidyl-dipeptidase A) inhibitor\n",
      "MESH:D000077205 Pioglitazone\n",
      "CHEBI:28088 genistein\n",
      "CHEBI:30429 indigane\n",
      "CHEBI:439329 (S)-fenfluramine\n",
      "CHEBI:61016 angiotensin receptor antagonist\n",
      "CHEBI:25681 omega-3 fatty acid\n",
      "CHEBI:5384 glipizide\n",
      "PUBCHEM:9947731 2-methyl-c-5-(4-(5-methyl-2-(4-methylphenyl)-4-oxazolyl)butyl)-1,3-dioxane-r-2-carboxylic acid\n",
      "CHEBI:3650 chlorpropamide\n",
      "CHEBI:73272 canagliflozin hydrate\n",
      "CHEBI:50991 thiazolidenedione\n",
      "CHEBI:5959 irbesartan\n",
      "CHEBI:71271 saxagliptin hydrate\n",
      "CHEBI:77148 ginsenoside Re\n",
      "CHEBI:28197 daidzein\n",
      "CHEMBL.COMPOUND:CHEMBL2337806 CHEMBL2337806\n",
      "CHEBI:40968 astaxanthin\n",
      "CHEBI:28794 coumarin\n",
      "PUBCHEM:9929731 2,2-dichloro-12-(p-chlorophenyl)-dodecanoic acid\n",
      "MESH:C468270 Kangen-karyu\n",
      "CHEBI:5441 glyburide\n",
      "MESH:C074031 [OBSOLETE] exenatide\n",
      "PUBCHEM:6442063 Docosahexaenoic Acids\n",
      "PUBCHEM:667431 Gliclazide\n",
      "CHEBI:4631 diosmin\n",
      "CHEBI:4806 (-)-epigallocatechin 3-gallate\n",
      "CHEBI:45713 trans-resveratrol\n",
      "CHEBI:9434 telmisartan\n",
      "CHEBI:3962 curcumin\n",
      "CHEBI:47612 bezafibrate\n",
      "PUBCHEM:6918448 neomangiferin\n",
      "CHEBI:94686 orlistat\n",
      "CHEBI:53488 (7Z,10Z,13Z,16Z,19Z)-docosapentaenoic acid\n",
      "DRUGBANK:DB00284 Acarbose\n",
      "CHEBI:135285 vildagliptin\n",
      "MESH:C061004 benidipine\n",
      "MESH:D000077270 \n",
      "MESH:D013453 Sulfonylurea Compounds\n",
      "MESH:C000599091 fumosorinone\n",
      "MESH:C439759 \n",
      "MESH:D000077288 Troglitazone\n",
      "MESH:D004365 Drugs, Chinese Herbal\n",
      "CHEBI:16118 berberine\n",
      "MESH:D010936 Plant Extracts\n",
      "MESH:C023599 stannous chloride\n",
      "CHEMBL.COMPOUND:CHEMBL1201174 SITAGLIPTIN\n",
      "MESH:C000594859 nymphayol\n",
      "MESH:C519374 Panax notoginseng extract\n",
      "MESH:D000077154 Rosiglitazone\n",
      "MESH:C000590645 2,4-dinitrophenol methyl ether\n",
      "CHEMBL.COMPOUND:CHEMBL1829173 CHEMBL1829173\n",
      "MESH:D058607 Fibric Acids\n",
      "CHEBI:29224 dibromine\n",
      "MESH:D009568 Nitrendipine\n",
      "MESH:C581182 2-dodecyl-6-methoxycyclohexa-2,5-diene-1,4-dione\n",
      "MESH:D061267 Insulin Aspart\n",
      "MESH:C403535 triaquaoxohexakis(propionato)trichromium(III)\n",
      "MESH:C576414 platyconic acid\n",
      "MESH:D000069472 Colesevelam Hydrochloride\n",
      "CHEMBL.COMPOUND:CHEMBL1770248 ERTUGLIFLOZIN\n",
      "MESH:C542815 BLX 1002\n"
     ]
    }
   ],
   "source": [
    "for n in strider_result['knowledge_graph']['nodes']:\n",
    "    print(n['id'], n['name'])\n",
    "drugs = [n['id'] for n in strider_result['knowledge_graph']['nodes'] if n['id'].startswith('CHEBI')]"
   ]
  },
  {
   "cell_type": "markdown",
   "metadata": {},
   "source": [
    "## Coalesce Answers by Property"
   ]
  },
  {
   "cell_type": "code",
   "execution_count": 133,
   "metadata": {},
   "outputs": [
    {
     "name": "stdout",
     "output_type": "stream",
     "text": [
      "200\n",
      "results found\n",
      "MONDO:0005148 type 2 diabetes mellitus\n",
      "CHEBI:7986 Pentoxifylline\n",
      "MESH:D000069450 Liraglutide\n",
      "CHEBI:16325 lithocholic acid\n",
      "CHEMBL.COMPOUND:CHEMBL1829174 FASIGLIFAM\n",
      "PUBCHEM:3013166 L 783281\n",
      "CHEBI:63631 topiramate\n",
      "CHEBI:27999 tolbutamide\n",
      "CHEMBL.COMPOUND:CHEMBL2146125 MAGNESIUM\n",
      "CHEMBL.COMPOUND:CHEMBL259771 CHEMBL259771\n",
      "CHEBI:50385 hemin\n",
      "CHEBI:16731 (E)-cinnamaldehyde\n",
      "CHEBI:4784 enalapril\n",
      "CHEBI:6801 metformin\n",
      "CHEBI:26513 quinolines\n",
      "CHEBI:6682 mangiferin\n",
      "PUBCHEM:23927 Lead\n",
      "CHEBI:35457 EC 3.4.15.1 (peptidyl-dipeptidase A) inhibitor\n",
      "MESH:D000077205 Pioglitazone\n",
      "CHEBI:28088 genistein\n",
      "CHEBI:30429 indigane\n",
      "CHEBI:439329 (S)-fenfluramine\n",
      "CHEBI:61016 angiotensin receptor antagonist\n",
      "CHEBI:25681 omega-3 fatty acid\n",
      "CHEBI:5384 glipizide\n",
      "PUBCHEM:9947731 2-methyl-c-5-(4-(5-methyl-2-(4-methylphenyl)-4-oxazolyl)butyl)-1,3-dioxane-r-2-carboxylic acid\n",
      "CHEBI:3650 chlorpropamide\n",
      "CHEBI:73272 canagliflozin hydrate\n",
      "CHEBI:50991 thiazolidenedione\n",
      "CHEBI:5959 irbesartan\n",
      "CHEBI:71271 saxagliptin hydrate\n",
      "CHEBI:77148 ginsenoside Re\n",
      "CHEBI:28197 daidzein\n",
      "CHEMBL.COMPOUND:CHEMBL2337806 CHEMBL2337806\n",
      "CHEBI:40968 astaxanthin\n",
      "CHEBI:28794 coumarin\n",
      "PUBCHEM:9929731 2,2-dichloro-12-(p-chlorophenyl)-dodecanoic acid\n",
      "MESH:C468270 Kangen-karyu\n",
      "CHEBI:5441 glyburide\n",
      "MESH:C074031 [OBSOLETE] exenatide\n",
      "PUBCHEM:6442063 Docosahexaenoic Acids\n",
      "PUBCHEM:667431 Gliclazide\n",
      "CHEBI:4631 diosmin\n",
      "CHEBI:4806 (-)-epigallocatechin 3-gallate\n",
      "CHEBI:45713 trans-resveratrol\n",
      "CHEBI:9434 telmisartan\n",
      "CHEBI:3962 curcumin\n",
      "CHEBI:47612 bezafibrate\n",
      "PUBCHEM:6918448 neomangiferin\n",
      "CHEBI:94686 orlistat\n",
      "CHEBI:53488 (7Z,10Z,13Z,16Z,19Z)-docosapentaenoic acid\n",
      "DRUGBANK:DB00284 Acarbose\n",
      "CHEBI:135285 vildagliptin\n",
      "MESH:C061004 benidipine\n",
      "MESH:D000077270 \n",
      "MESH:D013453 Sulfonylurea Compounds\n",
      "MESH:C000599091 fumosorinone\n",
      "MESH:C439759 \n",
      "MESH:D000077288 Troglitazone\n",
      "MESH:D004365 Drugs, Chinese Herbal\n",
      "CHEBI:16118 berberine\n",
      "MESH:D010936 Plant Extracts\n",
      "MESH:C023599 stannous chloride\n",
      "CHEMBL.COMPOUND:CHEMBL1201174 SITAGLIPTIN\n",
      "MESH:C000594859 nymphayol\n",
      "MESH:C519374 Panax notoginseng extract\n",
      "MESH:D000077154 Rosiglitazone\n",
      "MESH:C000590645 2,4-dinitrophenol methyl ether\n",
      "CHEMBL.COMPOUND:CHEMBL1829173 CHEMBL1829173\n",
      "MESH:D058607 Fibric Acids\n",
      "CHEBI:29224 dibromine\n",
      "MESH:D009568 Nitrendipine\n",
      "MESH:C581182 2-dodecyl-6-methoxycyclohexa-2,5-diene-1,4-dione\n",
      "MESH:D061267 Insulin Aspart\n",
      "MESH:C403535 triaquaoxohexakis(propionato)trichromium(III)\n",
      "MESH:C576414 platyconic acid\n",
      "MESH:D000069472 Colesevelam Hydrochloride\n",
      "CHEMBL.COMPOUND:CHEMBL1770248 ERTUGLIFLOZIN\n",
      "MESH:C542815 BLX 1002\n"
     ]
    }
   ],
   "source": [
    "url = 'https://answercoalesce.renci.org/coalesce'\n",
    "params = {'method':'property'}\n",
    "property_result = requests.post(url,json=strider_result,params=params)\n",
    "print(r.status_code)\n"
   ]
  },
  {
   "cell_type": "code",
   "execution_count": 24,
   "metadata": {},
   "outputs": [
    {
     "name": "stdout",
     "output_type": "stream",
     "text": [
      "15 [8.072657013358605e-45, 6.483746222891755e-42] ['Drugs Used in Diabetes', 'Blood Glucose Lowering Agents']\n",
      "14 [6.567843868028501e-43] ['Oral Hypoglycemics']\n",
      "29 [3.270561921913802e-42] ['drugbank.approved']\n",
      "16 [1.0840893279426186e-40] ['hypoglycemic_agent']\n",
      "17 [6.27607905837926e-36] ['Alimentary Tract and Metabolism']\n",
      "27 [1.3659039840862994e-35] ['therapeutic_flag']\n",
      "25 [3.0865768196720107e-35] ['drugbank.investigational']\n",
      "21 [5.086869670882937e-32] ['oral']\n",
      "28 [8.588128044402654e-30, 1.2517181426225488e-29] ['drug', 'pharmaceutical']\n",
      "30 [7.945602174143482e-28] ['application']\n",
      "19 [2.0996850459555312e-23] ['inhibitor']\n",
      "8 [5.756553307474046e-21] ['Hypoglycemia-Associated Agents']\n",
      "12 [1.2015000966117868e-20] ['Enzyme Inhibitors']\n",
      "11 [4.569813185172222e-19] ['Drugs that are Mainly Renally Excreted']\n",
      "12 [1.3862102093088527e-18] ['EC_3.*_(hydrolase)_inhibitor']\n",
      "35 [9.574538381340596e-18] ['biological_role']\n",
      "15 [1.05887338692192e-17] ['enzyme_inhibitor']\n",
      "5 [2.897881550528794e-17, 6.51908008355627e-17] ['EC_3.4.14.5_(dipeptidyl_peptidase_IV)_inhibitor', 'EC_3.4.14.*_(dipeptidyl__and_tripeptidyl_peptidases)_inhibitor']\n",
      "10 [1.6942700391554564e-16] ['Cytochrome P-450 Enzyme Inhibitors']\n",
      "5 [2.3894837633034717e-16, 2.2643689399301283e-10] ['Sulfonylureas', 'Sulfones']\n",
      "8 [6.584808584105368e-16] ['Cytochrome P-450 CYP2C9 Substrates']\n",
      "30 [1.8974622871756463e-15] ['biochemical_role']\n",
      "10 [2.027036319243978e-15, 2.1108104664721856e-15, 2.2877401524554234e-15] ['Cytochrome P-450 CYP3A4 Substrates (strength unknown)', 'Cytochrome P-450 CYP3A4 Substrates', 'Cytochrome P-450 CYP3A Substrates']\n",
      "6 [2.501972763310115e-15] ['Agents causing angioedema']\n",
      "4 [8.426945673899067e-14, 3.902744811436343e-10] ['Sulfonylurea Compounds', 'Urea']\n",
      "4 [8.426945673899067e-14, 8.426945673899067e-14] ['insulin_secretagogue', 'secretagogue']\n",
      "7 [2.743021432527173e-13] ['EC_3.4.*_(hydrolases_acting_on_peptide_bond)_inhibitor']\n",
      "8 [4.122614126591384e-13] ['antioxidant']\n",
      "4 [1.719729413423593e-12] ['DPP-IV Inhibitors']\n",
      "13 [4.498460236982647e-12] ['plant_metabolite']\n",
      "5 [4.945739821471742e-12, 1.4826669585315443e-11] ['Benzopyrans', 'Pyrans']\n",
      "7 [6.277661608103404e-12] ['Benzene Derivatives']\n",
      "5 [1.5762278172540572e-11] ['BSEP/ABCB11 Substrates']\n",
      "3 [4.4278277268729056e-11] ['Antimutagenic Agents']\n",
      "3 [4.4278277268729056e-11] ['Incretins']\n",
      "3 [4.4278277268729056e-11, 1.106776291999382e-10] ['Sodium-glucose Cotransporter 2 (SGLT2) Inhibitors', 'Sodium-glucose co-transporter 2 (SGLT2) inhibitors']\n",
      "4 [7.544625326167542e-11, 1.58198319825279e-10] ['Flavonoids', 'Chromones']\n",
      "6 [8.022583008387606e-11] ['P-glycoprotein/ABCB1 Inhibitors']\n",
      "6 [8.892202645943723e-11] ['P-glycoprotein/ABCB1 Substrates']\n",
      "7 [1.1355697393457768e-10] ['EC_2.*_(transferase)_inhibitor']\n",
      "3 [2.213191367958582e-10] ['sodium_glucose_transport_protein_subtype_2_inhibitor']\n",
      "8 [2.416174416836309e-10] ['natural_product']\n",
      "5 [5.443129850657301e-10] ['Protective Agents']\n",
      "6 [6.313244844405209e-10] ['EC_2.7.*_(P_containing_group_transferase)_inhibitor']\n",
      "5 [6.48696243576122e-10] ['Hypotensive Agents']\n",
      "6 [6.788862905229423e-10] ['Compounds used in a research, industrial, or household setting']\n",
      "4 [7.553087493631546e-10] ['Diuretics']\n",
      "5 [8.811780215524899e-10] ['Cytochrome P-450 CYP1A2 Substrates']\n",
      "5 [1.1170581884122732e-09, 4.033072972150955e-09] ['Hormones', 'Hormones, Hormone Substitutes, and Hormone Antagonists']\n",
      "4 [1.6139336312103504e-09] ['Protease Inhibitors']\n",
      "6 [5.319764920026447e-09] ['Sulfur Compounds']\n",
      "19 [6.514254368629601e-09] ['chemical_role']\n",
      "5 [7.717581196139059e-09, 9.62370933074179e-09] ['Cytochrome P-450 CYP3A4 Inhibitors', 'Cytochrome P-450 CYP3A Inhibitors']\n",
      "4 [1.3656127782828244e-08] ['OAT1/SLC22A6 inhibitors']\n",
      "4 [1.691967969214098e-08] ['Cytochrome P-450 CYP1A2 Inhibitors']\n",
      "3 [1.699713657792265e-08] ['Anticarcinogenic Agents']\n",
      "5 [2.6217461587861195e-08] ['Cardiovascular Agents']\n",
      "5 [2.766632574729e-08] ['Antineoplastic Agents']\n",
      "4 [4.509876556154451e-08] ['Cytochrome P-450 CYP2C8 Substrates']\n",
      "2 [5.027058324732863e-08] ['Sodium-Glucose Transporter 2 Inhibitors']\n",
      "5 [5.116157958191184e-08] ['cardiovascular_drug']\n",
      "15 [8.530140000996165e-08] ['eukaryotic_metabolite']\n",
      "5 [8.735970727289087e-08, 4.267376634590309e-07] ['environmental_contaminant', 'xenobiotic']\n",
      "3 [1.6688842682192362e-07, 7.095041214779472e-06, 1.4505593996871513e-05, 3.438738691210836e-05] ['Agents Acting on the Renin-Angiotensin System', 'Antihypertensive Agents', 'antihypertensive_agent', 'Agents causing hyperkalemia']\n",
      "2 [3.0153493576848645e-07, 1.8078819165635161e-06, 6.821759440153987e-06] ['Phytoestrogens', 'Estrogens, Non-Steroidal', 'phytoestrogen']\n",
      "5 [3.352826080619626e-07] ['Central Nervous System Agents']\n",
      "3 [4.147080283602376e-07] ['Antioxidants']\n",
      "2 [5.024844414560316e-07, 1.4063368441894722e-06, 1.8078819165635161e-06, 1.8078819165635161e-06, 2.259520632998666e-06, 3.914777830201798e-06, 4.5665703481950455e-06, 2.6422352361188857e-05] ['Angiotensin II Type 2 Receptor Blockers', 'Angiotensin II receptor blockers (ARBs) and calcium channel blockers', 'Angiotensin 2 Receptor Blocker', 'Angiotensin II receptor blockers (ARBs) and diuretics', 'Angiotensin II receptor blockers (ARBs), plain', 'angiotensin_receptor_antagonist', 'Angiotensin Receptor Antagonists', 'UGT1A3 substrates']\n",
      "4 [1.1869057011406135e-06] ['Carbohydrates']\n",
      "2 [1.8078819165635161e-06, 5.398474160956418e-05] ['EC_2.7.1.33_(pantothenate_kinase)_inhibitor', 'EC_2.7.1.*_(phosphotransferases_with_an_alcohol_group_as_acceptor)_inhibitor']\n",
      "6 [1.8990530679694864e-06] ['antineoplastic_agent']\n",
      "3 [2.8269365810712033e-06] ['Phenols']\n",
      "2 [3.914777830201798e-06] ['Anti-Obesity Agents']\n",
      "3 [4.249140855653577e-06, 6.804488349122807e-05] ['neuroprotective_agent', 'protective_agent']\n",
      "2 [4.5665703481950455e-06] ['Antiobesity Preparations, Excl. Diet Products']\n",
      "17 [4.826683374934895e-06] ['metabolite']\n",
      "3 [5.272902063059641e-06] ['Cytochrome P-450 CYP2C8 Inhibitors']\n",
      "3 [6.200237561981397e-06] ['Cytochrome P-450 CYP2C9 Inhibitors']\n",
      "2 [7.67335285588775e-06] ['Radiation-Protective Agents']\n",
      "2 [8.574841391815093e-06, 1.5030337964681746e-05] ['potassium_channel_blocker', 'potassium_channel_modulator']\n",
      "3 [9.451528716962814e-06, 1.0626634688994997e-05, 1.8205227270321157e-05] ['Cytochrome P-450 CYP3A4 Inducers', 'Cytochrome P-450 CYP3A Inducers', 'Cytochrome P-450 Enzyme Inducers']\n",
      "2 [9.52620306587353e-06] ['Antineoplastic Agents, Phytogenic']\n",
      "2 [9.52620306587353e-06] ['Cytochrome P-450 CYP3A4 Inducers (weak)']\n",
      "4 [9.8438193712368e-06] ['biophysical_role']\n",
      "2 [1.1578457705143316e-05] ['EC_1.1.1.21_(aldehyde_reductase)_inhibitor']\n",
      "4 [1.3297520059523891e-05] ['anti_inflammatory_agent']\n",
      "2 [1.6280476312727294e-05, 1.6280476312727294e-05] ['OCT2 Substrates', 'OCT2 substrates with narrow therapeutic index']\n",
      "6 [1.860805439280665e-05] ['pharmacological_role']\n",
      "3 [2.3054121378618036e-05] ['food_additive']\n",
      "2 [2.482464072664326e-05] ['Neuroprotective Agents']\n",
      "2 [2.6422352361188857e-05, 6.617138961868902e-05] ['food_colouring', 'Hydrocarbons, Acyclic']\n",
      "6 [3.052661092972746e-05] ['drugbank.experimental']\n",
      "3 [3.3637015132138066e-05] ['Cytochrome P-450 CYP2D6 Substrates']\n",
      "2 [3.51539561553038e-05, 3.51539561553038e-05] ['EC_3.4.15.*_(peptidyl_dipeptidase)_inhibitor', 'EC_3.4.15.1_(peptidyl_dipeptidase_A)_inhibitor']\n",
      "2 [3.51539561553038e-05, 3.51539561553038e-05] ['UGT1A9 Substrates', 'UGT2B7 substrates']\n",
      "2 [3.704873273769904e-05] ['Antiplatelet agents']\n",
      "2 [4.512196280458589e-05] ['Cytochrome P-450 CYP2C8 Inhibitors (moderate)']\n",
      "3 [4.8872854427356384e-05] ['protein_kinase_inhibitor']\n",
      "2 [6.617138961868902e-05] ['Anticoagulants']\n",
      "2 [6.87562578536976e-05] ['OATP1B1/SLCO1B1 Substrates']\n"
     ]
    }
   ],
   "source": [
    "results = property_result.json()['results']\n",
    "for result in results:\n",
    "    chemnode = result['node_bindings'][1]\n",
    "    print(len(chemnode['kg_id']), chemnode['p_values'], chemnode['properties'])"
   ]
  },
  {
   "cell_type": "code",
   "execution_count": 19,
   "metadata": {},
   "outputs": [],
   "source": [
    "#modify notebook functions to show an answer.  Show something reasonably sized, like the first answer with 5 compounds."
   ]
  },
  {
   "cell_type": "markdown",
   "metadata": {},
   "source": [
    "## Coalesce Answers by Ontology"
   ]
  },
  {
   "cell_type": "code",
   "execution_count": 162,
   "metadata": {},
   "outputs": [],
   "source": [
    "def create_pd_question(p_curie):\n",
    "    question = { \"nodes\": [{\"id\":\"n0\", \"type\":\"disease\"},\n",
    "                          {\"id\": \"n1\", \"type\":\"phenotypic_feature\",\"curie\":p_curie}],\n",
    "                 \"edges\": [ {\"id\": \"e0\", \"source_id\": \"n1\", \"target_id\": \"n0\", \"type\": \"has_phenotype\"}]}\n",
    "    return question"
   ]
  },
  {
   "cell_type": "code",
   "execution_count": null,
   "metadata": {},
   "outputs": [],
   "source": [
    "p_curie = \"HP:0012649\"\n",
    "question = create_pd_question(p_curie)\n",
    "message = {\"message\": {\"query_graph\": question}}\n",
    "metformin_p = strider.send_message(message)\n",
    "strider_result=strider.query_result(metformin_p)\n",
    "while len(strider_result['results']) == 0:\n",
    "    time.sleep(5)\n",
    "    strider_result = strider.query_result(metformin_p)\n",
    "print(len(strider_result['results']))"
   ]
  },
  {
   "cell_type": "code",
   "execution_count": 152,
   "metadata": {},
   "outputs": [
    {
     "data": {
      "application/vnd.jupyter.widget-view+json": {
       "model_id": "6137d2901d7b4e16badd236979f4ee96",
       "version_major": 2,
       "version_minor": 0
      },
      "text/plain": [
       "Cytoscape(data={'elements': {'nodes': [{'data': {'id': 'n0', 'label': 'disease\\n[]', 'curie': '', 'type': 'dis…"
      ]
     },
     "metadata": {},
     "output_type": "display_data"
    }
   ],
   "source": [
    "chem='CHEBI:28088'   #prednisone\n",
    "edgetype=\"treats\"\n",
    "question = create_question(edgetype,chem_curie=chem)\n",
    "message = {\"message\": {\"query_graph\": question}}\n",
    "\n",
    "c=reasonerGraphToCytoscape(question)\n",
    "Cytoscape(data=c, visual_style=c[\"style\"], layout_name='grid', layout={\"name\": \"grid\", \"height\": \"200px\"})"
   ]
  },
  {
   "cell_type": "code",
   "execution_count": 153,
   "metadata": {},
   "outputs": [
    {
     "name": "stdout",
     "output_type": "stream",
     "text": [
      "checking\n",
      "results found\n"
     ]
    }
   ],
   "source": [
    "metformin_p = strider.send_message(message)\n",
    "strider_result=strider.query_result(metformin_p)\n",
    "while len(strider_result['results']) == 0:\n",
    "    time.sleep(5)\n",
    "    print('checking')\n",
    "    strider_result = strider.query_result(metformin_p)\n",
    "print('results found')"
   ]
  },
  {
   "cell_type": "code",
   "execution_count": 154,
   "metadata": {},
   "outputs": [
    {
     "name": "stdout",
     "output_type": "stream",
     "text": [
      "MONDO:0005280 prostatitis (disease)\n",
      "CHEBI:28088 genistein\n",
      "MONDO:0005148 type 2 diabetes mellitus\n",
      "MONDO:0012883 acute promyelocytic leukemia\n"
     ]
    }
   ],
   "source": [
    "strider_result = strider.query_result(metformin_p)\n",
    "for n in strider_result['knowledge_graph']['nodes']:\n",
    "    print(n['id'], n['name'])"
   ]
  },
  {
   "cell_type": "code",
   "execution_count": 155,
   "metadata": {},
   "outputs": [
    {
     "name": "stdout",
     "output_type": "stream",
     "text": [
      "200\n"
     ]
    }
   ],
   "source": [
    "url = 'https://answercoalesce.renci.org/coalesce'\n",
    "params = {'method':'ontology'}\n",
    "ontology_result = requests.post(url,json=strider_result,params=params)\n",
    "print(r.status_code)"
   ]
  },
  {
   "cell_type": "code",
   "execution_count": 156,
   "metadata": {},
   "outputs": [
    {
     "name": "stdout",
     "output_type": "stream",
     "text": [
      "0\n"
     ]
    }
   ],
   "source": [
    "results = ontology_result.json()['results']\n",
    "print(len(results))"
   ]
  },
  {
   "cell_type": "code",
   "execution_count": null,
   "metadata": {},
   "outputs": [],
   "source": []
  },
  {
   "cell_type": "code",
   "execution_count": null,
   "metadata": {},
   "outputs": [],
   "source": []
  }
 ],
 "metadata": {
  "kernelspec": {
   "display_name": "Python 3",
   "language": "python",
   "name": "python3"
  },
  "language_info": {
   "codemirror_mode": {
    "name": "ipython",
    "version": 3
   },
   "file_extension": ".py",
   "mimetype": "text/x-python",
   "name": "python",
   "nbconvert_exporter": "python",
   "pygments_lexer": "ipython3",
   "version": "3.7.3"
  }
 },
 "nbformat": 4,
 "nbformat_minor": 4
}
