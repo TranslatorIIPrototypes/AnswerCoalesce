{
 "cells": [
  {
   "cell_type": "code",
   "execution_count": 1,
   "metadata": {},
   "outputs": [],
   "source": [
    "import numpy as np\n",
    "import matplotlib\n",
    "import matplotlib.pyplot as plt\n",
    "import math"
   ]
  },
  {
   "cell_type": "code",
   "execution_count": 2,
   "metadata": {},
   "outputs": [],
   "source": [
    "def calculateK(G):\n",
    "    eigs = np.linalg.eig(G)[0]\n",
    "    tol = 1e-10\n",
    "    oo = 0\n",
    "    for eig in eigs: \n",
    "        if math.fabs(eig) > tol:\n",
    "            oo += 1./eig\n",
    "    K = len(eigs) * oo\n",
    "    return K"
   ]
  },
  {
   "cell_type": "markdown",
   "metadata": {},
   "source": [
    "This is the Laplacian for unit resistance C4 ( a-b-c-d-a )"
   ]
  },
  {
   "cell_type": "code",
   "execution_count": 3,
   "metadata": {},
   "outputs": [],
   "source": [
    "C4 = np.array([[2,-1,0,-1],[-1,2,-1,0],[0,-1,2,-1],[-1,0,-1,2]])"
   ]
  },
  {
   "cell_type": "code",
   "execution_count": 4,
   "metadata": {},
   "outputs": [
    {
     "data": {
      "text/plain": [
       "5.0"
      ]
     },
     "execution_count": 4,
     "metadata": {},
     "output_type": "execute_result"
    }
   ],
   "source": [
    "calculateK(C4)"
   ]
  },
  {
   "cell_type": "code",
   "execution_count": 5,
   "metadata": {},
   "outputs": [],
   "source": [
    "def createSetConnector(n):\n",
    "    \"\"\"Create a Laplacian of a graph of n two hops from A to B\"\"\"\n",
    "    #Graph will have n + 2 nodes (A and B are the other 2)\n",
    "    # n = 1 is a P3\n",
    "    # n = 2 is a C4\n",
    "    #A and B are connected to every other node, which are only connected to A and B\n",
    "    A = [n] #A connected to N\n",
    "    for i in range(n):\n",
    "        A.append(-1) #A connected to every other (except B)\n",
    "    A.append(0) #not to B\n",
    "    Gl = [A]\n",
    "    interrow = [-1]\n",
    "    for i in range(n):\n",
    "        interrow.append(0)\n",
    "    interrow.append(-1)\n",
    "    for j in range(n):\n",
    "        newrow = interrow.copy()\n",
    "        diag = j + 1\n",
    "        newrow[diag] = 2\n",
    "        Gl.append(newrow)\n",
    "    B = [0]\n",
    "    for i in range(n):\n",
    "        B.append(-1)\n",
    "    B.append(n)\n",
    "    Gl.append(B)\n",
    "    G = np.array(Gl)\n",
    "    return G"
   ]
  },
  {
   "cell_type": "code",
   "execution_count": 6,
   "metadata": {},
   "outputs": [
    {
     "data": {
      "text/plain": [
       "4.000000000000001"
      ]
     },
     "execution_count": 6,
     "metadata": {},
     "output_type": "execute_result"
    }
   ],
   "source": [
    "P2 = createSetConnector(1)\n",
    "calculateK(P2)"
   ]
  },
  {
   "cell_type": "code",
   "execution_count": 7,
   "metadata": {},
   "outputs": [
    {
     "data": {
      "text/plain": [
       "5.000000000000002"
      ]
     },
     "execution_count": 7,
     "metadata": {},
     "output_type": "execute_result"
    }
   ],
   "source": [
    "C4 = createSetConnector(2)\n",
    "calculateK(C4)"
   ]
  },
  {
   "cell_type": "markdown",
   "metadata": {},
   "source": [
    "As you add more paths, the K increases, making these less desirable."
   ]
  },
  {
   "cell_type": "code",
   "execution_count": 8,
   "metadata": {},
   "outputs": [
    {
     "name": "stdout",
     "output_type": "stream",
     "text": [
      "1 4.000000000000001\n",
      "2 5.000000000000002\n",
      "3 7.666666666666668\n",
      "4 11.500000000000002\n",
      "5 16.400000000000006\n",
      "6 (22.333333333333332+0j)\n",
      "7 29.2857142857143\n",
      "8 37.25\n",
      "9 46.22222222222223\n"
     ]
    },
    {
     "name": "stderr",
     "output_type": "stream",
     "text": [
      "/Users/bizon/anaconda3/envs/translator/lib/python3.7/site-packages/ipykernel_launcher.py:6: ComplexWarning: Casting complex values to real discards the imaginary part\n",
      "  \n"
     ]
    }
   ],
   "source": [
    "for i in range(1,10):\n",
    "    X = createSetConnector(i)\n",
    "    print(i,calculateK(X))"
   ]
  },
  {
   "cell_type": "markdown",
   "metadata": {},
   "source": [
    "So a 2 hop unit graph has a KI of 4.  Adding another parallel two-hop goes up to 5.\n",
    "\n",
    "Suppose we add a short across the 2 hops like\n",
    "```\n",
    "  D\n",
    " /|\\\n",
    "A | B\n",
    " \\|/\n",
    "  C\n",
    "```  \n",
    "What value of the the CD resistance makes K equivalent to a single two hop?"
   ]
  },
  {
   "cell_type": "code",
   "execution_count": 9,
   "metadata": {},
   "outputs": [],
   "source": [
    "def createShortedC4(r):\n",
    "    rho = 1/r\n",
    "    return np.array([[2,-1,-1,0],[-1,2+rho,-rho,-1],[-1,-rho,2+rho,-1],[0,-1,-1,2]])"
   ]
  },
  {
   "cell_type": "markdown",
   "metadata": {
    "slideshow": {
     "slide_type": "slide"
    }
   },
   "source": [
    "A high resistance is the same as an open CD, making this C4, so we should get 5."
   ]
  },
  {
   "cell_type": "code",
   "execution_count": 10,
   "metadata": {},
   "outputs": [
    {
     "data": {
      "text/plain": [
       "4.999800019997999"
      ]
     },
     "execution_count": 10,
     "metadata": {},
     "output_type": "execute_result"
    }
   ],
   "source": [
    "openCD = createShortedC4(10000)\n",
    "calculateK(openCD)"
   ]
  },
  {
   "cell_type": "code",
   "execution_count": 11,
   "metadata": {},
   "outputs": [],
   "source": [
    "resistance=[]\n",
    "Kirchhoffs=[]\n",
    "res = 0.1\n",
    "while res < 2:\n",
    "    q = createShortedC4(res)\n",
    "    k = calculateK(q)\n",
    "    resistance.append(res)\n",
    "    Kirchhoffs.append(k)\n",
    "    res += 0.1"
   ]
  },
  {
   "cell_type": "code",
   "execution_count": 12,
   "metadata": {},
   "outputs": [
    {
     "data": {
      "image/png": "[encoded data removed]",
      "text/plain": [
       "<Figure size 432x288 with 1 Axes>"
      ]
     },
     "metadata": {
      "needs_background": "light"
     },
     "output_type": "display_data"
    }
   ],
   "source": [
    "plt.plot(resistance,Kirchhoffs)\n",
    "plt.xlabel('Resistance CD')\n",
    "plt.ylabel('Kirchhoff Index')\n",
    "plt.plot([1,1],[3.2,4.55],'r--')\n",
    "plt.plot([0.25,1.75],[4,4],'r--')\n",
    "plt.show()"
   ]
  },
  {
   "cell_type": "markdown",
   "metadata": {},
   "source": [
    "So if the R_CD = 1, then two two hops have a K equivalent to a single 2 hop. (all else unit).\n",
    "\n",
    "What about a double short like:\n",
    "\n",
    "```\n",
    "  D\n",
    " /|\\\n",
    "A-+-B\n",
    " \\|/\n",
    "  C\n",
    "\n",
    "```\n",
    "Assuming R_AB == R_CD, all else unit"
   ]
  },
  {
   "cell_type": "code",
   "execution_count": 13,
   "metadata": {},
   "outputs": [],
   "source": [
    "def createDoubleShortedC4(r):\n",
    "    rho = 1/r\n",
    "    return np.array([[2+rho,-1,-1,-rho],[-1,2+rho,-rho,-1],[-1,-rho,2+rho,-1],[-rho,-1,-1,2+rho]])"
   ]
  },
  {
   "cell_type": "code",
   "execution_count": 14,
   "metadata": {},
   "outputs": [
    {
     "name": "stderr",
     "output_type": "stream",
     "text": [
      "/Users/bizon/anaconda3/envs/translator/lib/python3.7/site-packages/ipykernel_launcher.py:6: ComplexWarning: Casting complex values to real discards the imaginary part\n",
      "  \n"
     ]
    }
   ],
   "source": [
    "res = 0.1\n",
    "resistance=[]\n",
    "Kirchhoff=[]\n",
    "while res < 5:\n",
    "    q = createDoubleShortedC4(res)\n",
    "    k = calculateK(q)\n",
    "    resistance.append(res)\n",
    "    Kirchhoff.append(k.real)\n",
    "    res += 0.1"
   ]
  },
  {
   "cell_type": "code",
   "execution_count": 15,
   "metadata": {},
   "outputs": [
    {
     "data": {
      "image/png": "[encoded data removed]",
      "text/plain": [
       "<Figure size 432x288 with 1 Axes>"
      ]
     },
     "metadata": {
      "needs_background": "light"
     },
     "output_type": "display_data"
    }
   ],
   "source": [
    "plt.plot(resistance,Kirchhoff)\n",
    "plt.xlabel('Resistance CD')\n",
    "plt.ylabel('Kirchhoff Index')\n",
    "plt.plot([3,3],[1.5,4.5],'r--')\n",
    "plt.plot([0,5],[4,4],'r--')\n",
    "plt.show()"
   ]
  },
  {
   "cell_type": "markdown",
   "metadata": {
    "slideshow": {
     "slide_type": "slide"
    }
   },
   "source": [
    "In this fully connected configuration, the resistance can be 3 times higher than for the unit resistance that was required for a single connection"
   ]
  },
  {
   "cell_type": "code",
   "execution_count": null,
   "metadata": {},
   "outputs": [],
   "source": []
  }
 ],
 "metadata": {
  "kernelspec": {
   "display_name": "Python 3",
   "language": "python",
   "name": "python3"
  },
  "language_info": {
   "codemirror_mode": {
    "name": "ipython",
    "version": 3
   },
   "file_extension": ".py",
   "mimetype": "text/x-python",
   "name": "python",
   "nbconvert_exporter": "python",
   "pygments_lexer": "ipython3",
   "version": "3.7.5"
  }
 },
 "nbformat": 4,
 "nbformat_minor": 4
}
